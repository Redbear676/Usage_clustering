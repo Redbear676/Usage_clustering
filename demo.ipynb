{
 "cells": [
  {
   "cell_type": "code",
   "execution_count": 19,
   "metadata": {
    "collapsed": false
   },
   "outputs": [],
   "source": [
    "import os\n",
    "from data_process import data4cluster as cluster\n",
    "from sql_data import  sql4data\n",
    "PATH = os.path.join(os.path.expanduser('~') , 'Desktop', 'III_Usage_clustering')"
   ]
  },
  {
   "cell_type": "code",
   "execution_count": 2,
   "metadata": {
    "collapsed": true
   },
   "outputs": [],
   "source": [
    "# connect to sql\n",
    "#data_from_sql = sql4data( user='@@@@',\n",
    "#                          password='@@@@@@@',\n",
    "#                          database='@@@@@@@@@@@',\n",
    "#                          host_address='@@@@@@@@@@@')\n",
    "\n",
    "# down load data to the folder 'data' with name raw_data.csv between the start date and the end_data\n",
    "#data_from_sql.read_data(start_date = '2018-01-01', end_date = '2018-01-15', file_name = 'test_data')\n",
    "#data_from_sql.disconnect()"
   ]
  },
  {
   "cell_type": "code",
   "execution_count": 20,
   "metadata": {
    "collapsed": false
   },
   "outputs": [],
   "source": [
    "# load the test_data.csv\n",
    "data = cluster()\n",
    "df = data.read_data_from_csv(os.path.join( PATH,'data','test_data.csv'))"
   ]
  },
  {
   "cell_type": "code",
   "execution_count": 4,
   "metadata": {
    "collapsed": false
   },
   "outputs": [
    {
     "data": {
      "text/html": [
       "<div>\n",
       "<table border=\"1\" class=\"dataframe\">\n",
       "  <thead>\n",
       "    <tr style=\"text-align: right;\">\n",
       "      <th></th>\n",
       "      <th>buildingid</th>\n",
       "      <th>channelid</th>\n",
       "      <th>reporttime</th>\n",
       "      <th>w</th>\n",
       "    </tr>\n",
       "  </thead>\n",
       "  <tbody>\n",
       "    <tr>\n",
       "      <th>0</th>\n",
       "      <td>9</td>\n",
       "      <td>0</td>\n",
       "      <td>2018-01-01 00:00:47</td>\n",
       "      <td>570.0</td>\n",
       "    </tr>\n",
       "    <tr>\n",
       "      <th>1</th>\n",
       "      <td>9</td>\n",
       "      <td>0</td>\n",
       "      <td>2018-01-01 00:01:47</td>\n",
       "      <td>631.0</td>\n",
       "    </tr>\n",
       "    <tr>\n",
       "      <th>2</th>\n",
       "      <td>9</td>\n",
       "      <td>0</td>\n",
       "      <td>2018-01-01 00:02:47</td>\n",
       "      <td>613.0</td>\n",
       "    </tr>\n",
       "    <tr>\n",
       "      <th>3</th>\n",
       "      <td>9</td>\n",
       "      <td>0</td>\n",
       "      <td>2018-01-01 00:03:47</td>\n",
       "      <td>631.0</td>\n",
       "    </tr>\n",
       "    <tr>\n",
       "      <th>4</th>\n",
       "      <td>9</td>\n",
       "      <td>0</td>\n",
       "      <td>2018-01-01 00:04:47</td>\n",
       "      <td>545.0</td>\n",
       "    </tr>\n",
       "  </tbody>\n",
       "</table>\n",
       "</div>"
      ],
      "text/plain": [
       "   buildingid  channelid           reporttime      w\n",
       "0           9          0  2018-01-01 00:00:47  570.0\n",
       "1           9          0  2018-01-01 00:01:47  631.0\n",
       "2           9          0  2018-01-01 00:02:47  613.0\n",
       "3           9          0  2018-01-01 00:03:47  631.0\n",
       "4           9          0  2018-01-01 00:04:47  545.0"
      ]
     },
     "execution_count": 4,
     "metadata": {},
     "output_type": "execute_result"
    }
   ],
   "source": [
    "df.head()"
   ]
  },
  {
   "cell_type": "code",
   "execution_count": 5,
   "metadata": {
    "collapsed": false,
    "scrolled": false
   },
   "outputs": [
    {
     "name": "stderr",
     "output_type": "stream",
     "text": [
      "data_process.py:60: FutureWarning: how in .resample() is deprecated\n",
      "the new syntax is .resample(...).mean()\n",
      "  df_result_long = df_result_long.resample(sample_rate, how='mean')\n",
      "data_process.py:67: FutureWarning: how in .resample() is deprecated\n",
      "the new syntax is .resample(...).mean()\n",
      "  df_channel = df_channel.resample(sample_rate, how='mean')\n"
     ]
    },
    {
     "data": {
      "text/html": [
       "<div>\n",
       "<table border=\"1\" class=\"dataframe\">\n",
       "  <thead>\n",
       "    <tr style=\"text-align: right;\">\n",
       "      <th></th>\n",
       "      <th>washing machine</th>\n",
       "      <th>air conditioner</th>\n",
       "      <th>fridge</th>\n",
       "      <th>television</th>\n",
       "      <th>main</th>\n",
       "    </tr>\n",
       "    <tr>\n",
       "      <th>reporttime</th>\n",
       "      <th></th>\n",
       "      <th></th>\n",
       "      <th></th>\n",
       "      <th></th>\n",
       "      <th></th>\n",
       "    </tr>\n",
       "  </thead>\n",
       "  <tbody>\n",
       "    <tr>\n",
       "      <th>2018-01-01 00:00:00</th>\n",
       "      <td>0.0</td>\n",
       "      <td>0.0</td>\n",
       "      <td>2.0</td>\n",
       "      <td>192.0</td>\n",
       "      <td>570.0</td>\n",
       "    </tr>\n",
       "    <tr>\n",
       "      <th>2018-01-01 00:01:00</th>\n",
       "      <td>0.0</td>\n",
       "      <td>0.0</td>\n",
       "      <td>8.0</td>\n",
       "      <td>189.0</td>\n",
       "      <td>631.0</td>\n",
       "    </tr>\n",
       "    <tr>\n",
       "      <th>2018-01-01 00:02:00</th>\n",
       "      <td>0.0</td>\n",
       "      <td>0.0</td>\n",
       "      <td>1.0</td>\n",
       "      <td>194.0</td>\n",
       "      <td>613.0</td>\n",
       "    </tr>\n",
       "    <tr>\n",
       "      <th>2018-01-01 00:03:00</th>\n",
       "      <td>0.0</td>\n",
       "      <td>0.0</td>\n",
       "      <td>2.0</td>\n",
       "      <td>197.0</td>\n",
       "      <td>631.0</td>\n",
       "    </tr>\n",
       "    <tr>\n",
       "      <th>2018-01-01 00:04:00</th>\n",
       "      <td>0.0</td>\n",
       "      <td>0.0</td>\n",
       "      <td>1.0</td>\n",
       "      <td>196.0</td>\n",
       "      <td>545.0</td>\n",
       "    </tr>\n",
       "  </tbody>\n",
       "</table>\n",
       "</div>"
      ],
      "text/plain": [
       "                     washing machine  air conditioner  fridge  television  \\\n",
       "reporttime                                                                  \n",
       "2018-01-01 00:00:00              0.0              0.0     2.0       192.0   \n",
       "2018-01-01 00:01:00              0.0              0.0     8.0       189.0   \n",
       "2018-01-01 00:02:00              0.0              0.0     1.0       194.0   \n",
       "2018-01-01 00:03:00              0.0              0.0     2.0       197.0   \n",
       "2018-01-01 00:04:00              0.0              0.0     1.0       196.0   \n",
       "\n",
       "                      main  \n",
       "reporttime                  \n",
       "2018-01-01 00:00:00  570.0  \n",
       "2018-01-01 00:01:00  631.0  \n",
       "2018-01-01 00:02:00  613.0  \n",
       "2018-01-01 00:03:00  631.0  \n",
       "2018-01-01 00:04:00  545.0  "
      ]
     },
     "execution_count": 5,
     "metadata": {},
     "output_type": "execute_result"
    }
   ],
   "source": [
    "# data.load_meters_from_buliding()\n",
    "df_9_long = data.load_meters_from_buliding(9, sample_rate = '1min')\n",
    "df_9_long.head()"
   ]
  },
  {
   "cell_type": "code",
   "execution_count": 6,
   "metadata": {
    "collapsed": false
   },
   "outputs": [
    {
     "data": {
      "text/html": [
       "<div>\n",
       "<table border=\"1\" class=\"dataframe\">\n",
       "  <thead>\n",
       "    <tr style=\"text-align: right;\">\n",
       "      <th></th>\n",
       "      <th>fridge</th>\n",
       "      <th>air conditioner</th>\n",
       "    </tr>\n",
       "    <tr>\n",
       "      <th>reporttime</th>\n",
       "      <th></th>\n",
       "      <th></th>\n",
       "    </tr>\n",
       "  </thead>\n",
       "  <tbody>\n",
       "    <tr>\n",
       "      <th>2018-01-01 00:00:00</th>\n",
       "      <td>False</td>\n",
       "      <td>False</td>\n",
       "    </tr>\n",
       "    <tr>\n",
       "      <th>2018-01-01 00:01:00</th>\n",
       "      <td>False</td>\n",
       "      <td>False</td>\n",
       "    </tr>\n",
       "    <tr>\n",
       "      <th>2018-01-01 00:02:00</th>\n",
       "      <td>False</td>\n",
       "      <td>False</td>\n",
       "    </tr>\n",
       "    <tr>\n",
       "      <th>2018-01-01 00:03:00</th>\n",
       "      <td>False</td>\n",
       "      <td>False</td>\n",
       "    </tr>\n",
       "    <tr>\n",
       "      <th>2018-01-01 00:04:00</th>\n",
       "      <td>False</td>\n",
       "      <td>False</td>\n",
       "    </tr>\n",
       "  </tbody>\n",
       "</table>\n",
       "</div>"
      ],
      "text/plain": [
       "                    fridge air conditioner\n",
       "reporttime                                \n",
       "2018-01-01 00:00:00  False           False\n",
       "2018-01-01 00:01:00  False           False\n",
       "2018-01-01 00:02:00  False           False\n",
       "2018-01-01 00:03:00  False           False\n",
       "2018-01-01 00:04:00  False           False"
      ]
     },
     "execution_count": 6,
     "metadata": {},
     "output_type": "execute_result"
    }
   ],
   "source": [
    "# data.meters_state_of_buliding()\n",
    "data.meters_state_of_buliding(building=9, channels=['fridge', 'air conditioner']).head()"
   ]
  },
  {
   "cell_type": "code",
   "execution_count": 8,
   "metadata": {
    "collapsed": false
   },
   "outputs": [
    {
     "data": {
      "text/html": [
       "<div>\n",
       "<table border=\"1\" class=\"dataframe\">\n",
       "  <thead>\n",
       "    <tr style=\"text-align: right;\">\n",
       "      <th></th>\n",
       "      <th>fridge</th>\n",
       "      <th>air conditioner</th>\n",
       "    </tr>\n",
       "    <tr>\n",
       "      <th>reporttime</th>\n",
       "      <th></th>\n",
       "      <th></th>\n",
       "    </tr>\n",
       "  </thead>\n",
       "  <tbody>\n",
       "    <tr>\n",
       "      <th>2018-01-01 00:00:00</th>\n",
       "      <td>False</td>\n",
       "      <td>True</td>\n",
       "    </tr>\n",
       "    <tr>\n",
       "      <th>2018-01-01 00:01:00</th>\n",
       "      <td>False</td>\n",
       "      <td>True</td>\n",
       "    </tr>\n",
       "    <tr>\n",
       "      <th>2018-01-01 00:02:00</th>\n",
       "      <td>False</td>\n",
       "      <td>False</td>\n",
       "    </tr>\n",
       "    <tr>\n",
       "      <th>2018-01-01 00:03:00</th>\n",
       "      <td>False</td>\n",
       "      <td>True</td>\n",
       "    </tr>\n",
       "    <tr>\n",
       "      <th>2018-01-01 00:04:00</th>\n",
       "      <td>False</td>\n",
       "      <td>False</td>\n",
       "    </tr>\n",
       "  </tbody>\n",
       "</table>\n",
       "</div>"
      ],
      "text/plain": [
       "                    fridge air conditioner\n",
       "reporttime                                \n",
       "2018-01-01 00:00:00  False            True\n",
       "2018-01-01 00:01:00  False            True\n",
       "2018-01-01 00:02:00  False           False\n",
       "2018-01-01 00:03:00  False            True\n",
       "2018-01-01 00:04:00  False           False"
      ]
     },
     "execution_count": 8,
     "metadata": {},
     "output_type": "execute_result"
    }
   ],
   "source": [
    "# data.select_target_data()\n",
    "data.select_target_data([4,5],['fridge','air conditioner'])[4].head() # take building 4 for example"
   ]
  },
  {
   "cell_type": "code",
   "execution_count": 9,
   "metadata": {
    "collapsed": false
   },
   "outputs": [
    {
     "name": "stdout",
     "output_type": "stream",
     "text": [
      "preprocessed_building_4.csv saved\n",
      "preprocessed_building_4.csv saved\n",
      "preprocessed_meters_of_4.csv saved\n",
      "preprocessed_building_5.csv saved\n",
      "preprocessed_building_5.csv saved\n",
      "preprocessed_meters_of_5.csv saved\n"
     ]
    },
    {
     "data": {
      "text/html": [
       "<div>\n",
       "<table border=\"1\" class=\"dataframe\">\n",
       "  <thead>\n",
       "    <tr style=\"text-align: right;\">\n",
       "      <th></th>\n",
       "      <th>main</th>\n",
       "    </tr>\n",
       "    <tr>\n",
       "      <th>reporttime</th>\n",
       "      <th></th>\n",
       "    </tr>\n",
       "  </thead>\n",
       "  <tbody>\n",
       "    <tr>\n",
       "      <th>2018-01-01 00:00:00</th>\n",
       "      <td>True</td>\n",
       "    </tr>\n",
       "    <tr>\n",
       "      <th>2018-01-01 00:01:00</th>\n",
       "      <td>True</td>\n",
       "    </tr>\n",
       "    <tr>\n",
       "      <th>2018-01-01 00:02:00</th>\n",
       "      <td>False</td>\n",
       "    </tr>\n",
       "    <tr>\n",
       "      <th>2018-01-01 00:03:00</th>\n",
       "      <td>True</td>\n",
       "    </tr>\n",
       "    <tr>\n",
       "      <th>2018-01-01 00:04:00</th>\n",
       "      <td>True</td>\n",
       "    </tr>\n",
       "  </tbody>\n",
       "</table>\n",
       "</div>"
      ],
      "text/plain": [
       "                      main\n",
       "reporttime                \n",
       "2018-01-01 00:00:00   True\n",
       "2018-01-01 00:01:00   True\n",
       "2018-01-01 00:02:00  False\n",
       "2018-01-01 00:03:00   True\n",
       "2018-01-01 00:04:00   True"
      ]
     },
     "execution_count": 9,
     "metadata": {},
     "output_type": "execute_result"
    }
   ],
   "source": [
    "# data.data_preprocess()\n",
    "data.data_preprocess([4,5])[4].head() # take building 4 for example"
   ]
  },
  {
   "cell_type": "code",
   "execution_count": 16,
   "metadata": {
    "collapsed": false
   },
   "outputs": [
    {
     "name": "stdout",
     "output_type": "stream",
     "text": [
      "preprocessed_building_4.csv saved\n",
      "preprocessed_building_4.csv saved\n",
      "preprocessed_meters_of_4.csv saved\n",
      "preprocessed_building_9.csv saved\n",
      "preprocessed_building_9.csv saved\n",
      "preprocessed_meters_of_9.csv saved\n"
     ]
    },
    {
     "data": {
      "text/plain": [
       "reporttime\n",
       "2018-01-01 07:50:00     True\n",
       "2018-01-01 07:54:00    False\n",
       "2018-01-01 07:55:00     True\n",
       "2018-01-01 07:56:00    False\n",
       "2018-01-01 07:57:00     True\n",
       "Name: fridge, dtype: bool"
      ]
     },
     "execution_count": 16,
     "metadata": {},
     "output_type": "execute_result"
    }
   ],
   "source": [
    "# data.extract_switch_moment()\n",
    "data.extract_switch_moment([4,9], ['television', 'fridge', 'air conditioner'], 30, '60min')[4]['fridge'][:5] # take building 4 for example"
   ]
  },
  {
   "cell_type": "code",
   "execution_count": 13,
   "metadata": {
    "collapsed": false,
    "scrolled": false
   },
   "outputs": [
    {
     "data": {
      "text/html": [
       "<div>\n",
       "<table border=\"1\" class=\"dataframe\">\n",
       "  <thead>\n",
       "    <tr style=\"text-align: right;\">\n",
       "      <th></th>\n",
       "      <th>air conditioner</th>\n",
       "      <th>television</th>\n",
       "      <th>fridge</th>\n",
       "    </tr>\n",
       "    <tr>\n",
       "      <th>reporttime</th>\n",
       "      <th></th>\n",
       "      <th></th>\n",
       "      <th></th>\n",
       "    </tr>\n",
       "  </thead>\n",
       "  <tbody>\n",
       "    <tr>\n",
       "      <th>2018-01-01 00:00:00</th>\n",
       "      <td>True</td>\n",
       "      <td>NaN</td>\n",
       "      <td>NaN</td>\n",
       "    </tr>\n",
       "    <tr>\n",
       "      <th>2018-01-01 00:02:00</th>\n",
       "      <td>False</td>\n",
       "      <td>NaN</td>\n",
       "      <td>NaN</td>\n",
       "    </tr>\n",
       "    <tr>\n",
       "      <th>2018-01-01 00:03:00</th>\n",
       "      <td>True</td>\n",
       "      <td>NaN</td>\n",
       "      <td>NaN</td>\n",
       "    </tr>\n",
       "    <tr>\n",
       "      <th>2018-01-01 00:04:00</th>\n",
       "      <td>False</td>\n",
       "      <td>NaN</td>\n",
       "      <td>NaN</td>\n",
       "    </tr>\n",
       "    <tr>\n",
       "      <th>2018-01-01 00:33:00</th>\n",
       "      <td>True</td>\n",
       "      <td>NaN</td>\n",
       "      <td>NaN</td>\n",
       "    </tr>\n",
       "  </tbody>\n",
       "</table>\n",
       "</div>"
      ],
      "text/plain": [
       "                    air conditioner television fridge\n",
       "reporttime                                           \n",
       "2018-01-01 00:00:00            True        NaN    NaN\n",
       "2018-01-01 00:02:00           False        NaN    NaN\n",
       "2018-01-01 00:03:00            True        NaN    NaN\n",
       "2018-01-01 00:04:00           False        NaN    NaN\n",
       "2018-01-01 00:33:00            True        NaN    NaN"
      ]
     },
     "execution_count": 13,
     "metadata": {},
     "output_type": "execute_result"
    }
   ],
   "source": [
    "data.concate_appliances_state()[4][:5] # take building 4 for example"
   ]
  },
  {
   "cell_type": "code",
   "execution_count": 18,
   "metadata": {
    "collapsed": false,
    "scrolled": false
   },
   "outputs": [
    {
     "name": "stdout",
     "output_type": "stream",
     "text": [
      "preprocessed_building_4.csv saved\n",
      "usage_representation_building_4.csv saved\n",
      "usage_representation_meters_of_4.csv saved\n",
      "preprocessed_building_5.csv saved\n",
      "usage_representation_building_5.csv saved\n",
      "usage_representation_meters_of_5.csv saved\n",
      "preprocessed_building_4.csv saved\n",
      "preprocessed_building_4.csv saved\n",
      "preprocessed_meters_of_4.csv saved\n",
      "preprocessed_building_5.csv saved\n",
      "preprocessed_building_5.csv saved\n",
      "preprocessed_meters_of_5.csv saved\n"
     ]
    },
    {
     "data": {
      "text/plain": [
       "reporttime\n",
       "2018-01-01 00:00:00     [4.0]\n",
       "2018-01-01 00:02:00    [-4.0]\n",
       "2018-01-01 00:03:00     [4.0]\n",
       "2018-01-01 00:04:00    [-4.0]\n",
       "2018-01-01 00:33:00     [4.0]\n",
       "dtype: object"
      ]
     },
     "execution_count": 18,
     "metadata": {},
     "output_type": "execute_result"
    }
   ],
   "source": [
    "data.get_usage_representation([4,5], ['television', 'fridge', 'air conditioner'])[4][:5]"
   ]
  },
  {
   "cell_type": "code",
   "execution_count": null,
   "metadata": {
    "collapsed": true
   },
   "outputs": [],
   "source": []
  }
 ],
 "metadata": {
  "kernelspec": {
   "display_name": "Python 2",
   "language": "python",
   "name": "python2"
  },
  "language_info": {
   "codemirror_mode": {
    "name": "ipython",
    "version": 2
   },
   "file_extension": ".py",
   "mimetype": "text/x-python",
   "name": "python",
   "nbconvert_exporter": "python",
   "pygments_lexer": "ipython2",
   "version": "2.7.13"
  }
 },
 "nbformat": 4,
 "nbformat_minor": 2
}

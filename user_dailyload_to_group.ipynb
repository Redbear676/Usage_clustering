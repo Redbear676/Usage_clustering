{
 "cells": [
  {
   "cell_type": "code",
   "execution_count": 1,
   "metadata": {},
   "outputs": [],
   "source": [
    "from sklearn.cluster import KMeans\n",
    "from mysql_model import sql4cluster\n",
    "import pandas as pd\n",
    "from time import strftime\n",
    "import os"
   ]
  },
  {
   "cell_type": "code",
   "execution_count": 2,
   "metadata": {},
   "outputs": [],
   "source": [
    "def read_data_from_csv(user):\n",
    "    df = pd.read_csv('./result/user_' + str(user) + '_dailyload.csv', header=0)\n",
    "    return df"
   ]
  },
  {
   "cell_type": "code",
   "execution_count": 3,
   "metadata": {},
   "outputs": [],
   "source": [
    "def group_user_dailyload(user):\n",
    "    df = read_data_from_csv(user=user)\n",
    "    \n",
    "    km = sql4cluster(model_name='KMeans')\n",
    "    km_model = km.load_model_from_pkl()\n",
    "    input_X = df.iloc[:, 4:100] # recorded power consumption\n",
    "    group = km_model.predict(input_X)\n",
    "    df.insert(loc=2, column='Group', value=group)\n",
    "    \n",
    "    dailyload2group = pd.DataFrame()\n",
    "\n",
    "    dailyload2group['Week_id'] = df['Week_id']\n",
    "    dailyload2group['Group_id'] = group\n",
    "    dailyload2group['Reporttime'] = strftime('%Y-%m-%d %H:%M')\n",
    "    dailyload2group.insert(loc=0, column='User_id', value=user)\n",
    "\n",
    "    dailyload2group.to_csv(r'./result/user_' + str(user) + '_group_relation.csv', index=False)\n",
    "    "
   ]
  },
  {
   "cell_type": "code",
   "execution_count": 4,
   "metadata": {},
   "outputs": [],
   "source": [
    "def cluster_users_dailyload(folder_name='.'):\n",
    "    folder = './' + folder_name + '/'\n",
    "    for filename in os.listdir(folder):\n",
    "        if filename.find('_dailyload.csv') == -1:\n",
    "            continue\n",
    "        user_id = filename.split('user_')[1]\n",
    "        user_id = user_id.split('_dailyload')[0]\n",
    "        group_user_dailyload(user_id)"
   ]
  },
  {
   "cell_type": "code",
   "execution_count": null,
   "metadata": {},
   "outputs": [],
   "source": []
  }
 ],
 "metadata": {
  "kernelspec": {
   "display_name": "Python 2",
   "language": "python",
   "name": "python2"
  },
  "language_info": {
   "codemirror_mode": {
    "name": "ipython",
    "version": 2
   },
   "file_extension": ".py",
   "mimetype": "text/x-python",
   "name": "python",
   "nbconvert_exporter": "python",
   "pygments_lexer": "ipython2",
   "version": "2.7.14"
  }
 },
 "nbformat": 4,
 "nbformat_minor": 2
}

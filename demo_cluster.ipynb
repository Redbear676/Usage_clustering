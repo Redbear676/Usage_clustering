{
 "cells": [
  {
   "cell_type": "code",
   "execution_count": 1,
   "metadata": {},
   "outputs": [],
   "source": [
    "from data_process import data4cluster\n",
    "from sql_process import cluster4sql\n",
    "from data_process import ClusterPipeline"
   ]
  },
  {
   "cell_type": "code",
   "execution_count": 2,
   "metadata": {},
   "outputs": [
    {
     "name": "stdout",
     "output_type": "stream",
     "text": [
      "=====================================================\n",
      "======== Connect to the remote msSQL server ========\n",
      "=====================================================\n",
      "Time : 2018-08-08_14_36\n",
      "\n"
     ]
    }
   ],
   "source": [
    "data = data4cluster()\n",
    "sql = cluster4sql(user=\"\", password=\"\", database=\"\", host_address='')"
   ]
  },
  {
   "cell_type": "code",
   "execution_count": 3,
   "metadata": {},
   "outputs": [],
   "source": [
    "# 初始化資料庫 TABLE\n",
    "sql.init_tables()"
   ]
  },
  {
   "cell_type": "code",
   "execution_count": 4,
   "metadata": {},
   "outputs": [
    {
     "name": "stderr",
     "output_type": "stream",
     "text": [
      "data_process.py:91: FutureWarning: how in .resample() is deprecated\n",
      "the new syntax is .resample(...).mean()\n",
      "  buliding_df = buliding_df.resample(sample_rate, how='mean')\n",
      "data_process.py:103: FutureWarning: how in .resample() is deprecated\n",
      "the new syntax is .resample(...).mean()\n",
      "  appliance_meter = appliance_meter.resample(sample_rate, how='mean')\n"
     ]
    },
    {
     "name": "stdout",
     "output_type": "stream",
     "text": [
      "The .csv of buliding_df_result is saved\n",
      "The .csv of buliding_df_result is saved\n",
      "The .csv of buliding_df_result is saved\n",
      "The .csv of buliding_df_result is saved\n",
      "The .csv of buliding_df_result is saved\n",
      "The .csv of buliding_df_result is saved\n",
      "The .csv of buliding_df_result is saved\n",
      "The .csv of buliding_df_result is saved\n",
      "The .csv of buliding_df_result is saved\n",
      "The .csv of buliding_df_result is saved\n",
      "The .csv of buliding_df_result is saved\n",
      "The .csv of buliding_df_result is saved\n",
      "The .csv of buliding_df_result is saved\n",
      "The .csv of buliding_df_result is saved\n",
      "The .csv of buliding_df_result is saved\n",
      "The .csv of buliding_df_result is saved\n",
      "The .csv of buliding_df_result is saved\n",
      "The .csv of buliding_df_result is saved\n",
      "The .csv of buliding_df_result is saved\n",
      "The .csv of buliding_df_result is saved\n",
      "The .csv of buliding_df_result is saved\n",
      "The .csv of buliding_df_result is saved\n",
      "The .csv of buliding_df_result is saved\n",
      "The .csv of buliding_df_result is saved\n",
      "The .csv of buliding_df_result is saved\n",
      "The .csv of meters_state_result is saved\n",
      "The .csv of meters_state_result is saved\n",
      "The .csv of meters_state_result is saved\n",
      "The .csv of meters_state_result is saved\n",
      "The .csv of meters_state_result is saved\n",
      "The .csv of meters_state_result is saved\n",
      "The .csv of meters_state_result is saved\n",
      "The .csv of meters_state_result is saved\n",
      "The .csv of meters_state_result is saved\n",
      "The .csv of meters_state_result is saved\n",
      "The .csv of meters_state_result is saved\n",
      "The .csv of meters_state_result is saved\n",
      "The .csv of meters_state_result is saved\n",
      "The .csv of meters_state_result is saved\n",
      "The .csv of meters_state_result is saved\n",
      "The .csv of meters_state_result is saved\n",
      "The .csv of meters_state_result is saved\n",
      "The .csv of meters_state_result is saved\n",
      "The .csv of meters_state_result is saved\n",
      "The .csv of meters_state_result is saved\n",
      "The .csv of meters_state_result is saved\n",
      "The .csv of meters_state_result is saved\n",
      "The .csv of meters_state_result is saved\n",
      "The .csv of meters_state_result is saved\n",
      "The .csv of meters_state_result is saved\n"
     ]
    },
    {
     "name": "stderr",
     "output_type": "stream",
     "text": [
      "data_process.py:243: FutureWarning: how in .resample() is deprecated\n",
      "the new syntax is .resample(...).min()\n",
      "  buildings_meters_state[building] = buildings_meters_state[building].resample(continuous_timestamps, how='min')\n",
      "data_process.py:245: FutureWarning: how in .resample() is deprecated\n",
      "the new syntax is .resample(...).sum()\n",
      "  buildings_meters_state[building] = buildings_meters_state[building].resample(sample_rate, how='sum')\n"
     ]
    },
    {
     "name": "stdout",
     "output_type": "stream",
     "text": [
      "The .csv of swich_moment_result is saved\n",
      "The .csv of swich_moment_result is saved\n",
      "The .csv of swich_moment_result is saved\n",
      "The .csv of swich_moment_result is saved\n",
      "The .csv of swich_moment_result is saved\n",
      "The .csv of swich_moment_result is saved\n",
      "The .csv of swich_moment_result is saved\n",
      "The .csv of swich_moment_result is saved\n",
      "The .csv of swich_moment_result is saved\n",
      "The .csv of swich_moment_result is saved\n",
      "The .csv of swich_moment_result is saved\n",
      "The .csv of swich_moment_result is saved\n",
      "The .csv of swich_moment_result is saved\n",
      "The .csv of swich_moment_result is saved\n",
      "The .csv of swich_moment_result is saved\n",
      "The .csv of swich_moment_result is saved\n",
      "The .csv of swich_moment_result is saved\n",
      "The .csv of swich_moment_result is saved\n",
      "The .csv of swich_moment_result is saved\n",
      "The .csv of swich_moment_result is saved\n",
      "The .csv of swich_moment_result is saved\n",
      "The .csv of swich_moment_result is saved\n",
      "The .csv of swich_moment_result is saved\n",
      "The .csv of swich_moment_result is saved\n",
      "The .csv of swich_moment_result is saved\n",
      "The .csv of concate_states_result is saved\n",
      "The .csv of concate_states_result is saved\n",
      "The .csv of concate_states_result is saved\n",
      "The .csv of concate_states_result is saved\n",
      "The .csv of concate_states_result is saved\n",
      "The .csv of concate_states_result is saved\n",
      "The .csv of concate_states_result is saved\n",
      "The .csv of concate_states_result is saved\n",
      "The .csv of concate_states_result is saved\n",
      "The .csv of concate_states_result is saved\n",
      "The .csv of concate_states_result is saved\n",
      "The .csv of concate_states_result is saved\n",
      "The .csv of concate_states_result is saved\n",
      "The .csv of concate_states_result is saved\n",
      "The .csv of concate_states_result is saved\n",
      "The .csv of concate_states_result is saved\n",
      "The .csv of concate_states_result is saved\n",
      "The .csv of concate_states_result is saved\n",
      "The .csv of concate_states_result is saved\n",
      "The .csv of concate_states_result is saved\n",
      "The .csv of concate_states_result is saved\n",
      "The .csv of concate_states_result is saved\n",
      "The .csv of concate_states_result is saved\n",
      "The .csv of concate_states_result is saved\n",
      "The .csv of concate_states_result is saved\n",
      "The .csv of usage_representation_result is saved\n",
      "The .csv of usage_representation_result is saved\n",
      "The .csv of usage_representation_result is saved\n",
      "The .csv of usage_representation_result is saved\n",
      "The .csv of usage_representation_result is saved\n",
      "The .csv of usage_representation_result is saved\n",
      "The .csv of usage_representation_result is saved\n",
      "The .csv of usage_representation_result is saved\n",
      "The .csv of usage_representation_result is saved\n",
      "The .csv of usage_representation_result is saved\n",
      "The .csv of usage_representation_result is saved\n",
      "The .csv of usage_representation_result is saved\n",
      "The .csv of usage_representation_result is saved\n",
      "The .csv of usage_representation_result is saved\n",
      "The .csv of usage_representation_result is saved\n",
      "The .csv of usage_representation_result is saved\n",
      "The .csv of usage_representation_result is saved\n",
      "The .csv of usage_representation_result is saved\n",
      "The .csv of usage_representation_result is saved\n",
      "The .csv of usage_representation_result is saved\n",
      "The .csv of usage_representation_result is saved\n",
      "The .csv of usage_representation_result is saved\n",
      "The .csv of usage_representation_result is saved\n",
      "The .csv of usage_representation_result is saved\n",
      "The .csv of usage_representation_result is saved\n"
     ]
    }
   ],
   "source": [
    "representation = data.get_usage_representation()"
   ]
  },
  {
   "cell_type": "code",
   "execution_count": 5,
   "metadata": {},
   "outputs": [
    {
     "name": "stdout",
     "output_type": "stream",
     "text": [
      "reporttime\n",
      "2018-01-01 00:00:00      [3, 2]\n",
      "2018-01-01 01:00:00        [-2]\n",
      "2018-01-01 08:00:00         [2]\n",
      "2018-01-01 09:00:00        [-2]\n",
      "2018-01-01 12:00:00         [1]\n",
      "2018-01-01 15:00:00         [2]\n",
      "2018-01-01 21:00:00         [5]\n",
      "2018-01-01 22:00:00    [-5, -2]\n",
      "2018-01-02 00:00:00        [-1]\n",
      "2018-01-02 07:00:00         [2]\n",
      "2018-01-02 10:00:00        [-2]\n",
      "2018-01-02 11:00:00         [2]\n",
      "2018-01-02 12:00:00        [-2]\n",
      "2018-01-02 13:00:00         [2]\n",
      "2018-01-02 16:00:00        [-2]\n",
      "2018-01-02 19:00:00      [1, 2]\n",
      "2018-01-02 23:00:00        [-2]\n",
      "2018-01-03 00:00:00    [-3, -1]\n",
      "2018-01-03 01:00:00         [3]\n",
      "2018-01-03 07:00:00         [2]\n",
      "2018-01-03 11:00:00         [5]\n",
      "2018-01-03 12:00:00        [-2]\n",
      "2018-01-03 13:00:00        [-5]\n",
      "2018-01-03 21:00:00      [1, 2]\n",
      "2018-01-03 22:00:00        [-2]\n",
      "2018-01-04 00:00:00        [-1]\n",
      "2018-01-04 01:00:00        [-3]\n",
      "2018-01-04 02:00:00         [3]\n",
      "2018-01-04 04:00:00         [5]\n",
      "2018-01-04 05:00:00        [-5]\n",
      "                         ...   \n",
      "2018-01-04 14:00:00         [2]\n",
      "2018-01-04 15:00:00        [-2]\n",
      "2018-01-04 17:00:00         [2]\n",
      "2018-01-04 19:00:00        [-2]\n",
      "2018-01-04 20:00:00         [2]\n",
      "2018-01-04 21:00:00      [5, 1]\n",
      "2018-01-04 22:00:00    [-5, -2]\n",
      "2018-01-05 00:00:00        [-1]\n",
      "2018-01-05 07:00:00         [2]\n",
      "2018-01-05 09:00:00        [-2]\n",
      "2018-01-05 12:00:00         [2]\n",
      "2018-01-05 14:00:00        [-2]\n",
      "2018-01-05 16:00:00         [2]\n",
      "2018-01-05 17:00:00        [-2]\n",
      "2018-01-05 18:00:00         [2]\n",
      "2018-01-05 21:00:00         [1]\n",
      "2018-01-05 22:00:00        [-2]\n",
      "2018-01-06 00:00:00        [-1]\n",
      "2018-01-06 03:00:00        [-3]\n",
      "2018-01-06 04:00:00         [3]\n",
      "2018-01-06 06:00:00        [-3]\n",
      "2018-01-06 07:00:00         [3]\n",
      "2018-01-06 08:00:00         [5]\n",
      "2018-01-06 09:00:00     [-5, 2]\n",
      "2018-01-06 11:00:00        [-2]\n",
      "2018-01-06 13:00:00         [2]\n",
      "2018-01-06 16:00:00        [-2]\n",
      "2018-01-06 18:00:00         [2]\n",
      "2018-01-06 21:00:00     [1, -2]\n",
      "2018-01-06 22:00:00         [2]\n",
      "Length: 62, dtype: object\n"
     ]
    }
   ],
   "source": [
    "print(representation[2])"
   ]
  },
  {
   "cell_type": "code",
   "execution_count": 6,
   "metadata": {},
   "outputs": [
    {
     "name": "stdout",
     "output_type": "stream",
     "text": [
      "reporttime\n",
      "2018-01-01 00:00:00             [2]\n",
      "2018-01-01 01:00:00            [-2]\n",
      "2018-01-01 05:00:00             [5]\n",
      "2018-01-01 06:00:00            [-5]\n",
      "2018-01-01 09:00:00          [5, 6]\n",
      "2018-01-01 10:00:00            [-6]\n",
      "2018-01-01 11:00:00         [-5, 2]\n",
      "2018-01-01 13:00:00            [-2]\n",
      "2018-01-01 14:00:00             [2]\n",
      "2018-01-01 15:00:00            [-2]\n",
      "2018-01-01 20:00:00             [2]\n",
      "2018-01-01 23:00:00         [5, -2]\n",
      "2018-01-02 00:00:00            [-5]\n",
      "2018-01-02 03:00:00             [5]\n",
      "2018-01-02 04:00:00            [-5]\n",
      "2018-01-02 05:00:00             [5]\n",
      "2018-01-02 06:00:00            [-5]\n",
      "2018-01-02 08:00:00             [5]\n",
      "2018-01-02 10:00:00            [-5]\n",
      "2018-01-02 12:00:00          [5, 6]\n",
      "2018-01-02 13:00:00        [-5, -6]\n",
      "2018-01-02 15:00:00             [2]\n",
      "2018-01-02 16:00:00            [-2]\n",
      "2018-01-02 18:00:00             [5]\n",
      "2018-01-02 19:00:00         [-5, 2]\n",
      "2018-01-02 23:00:00            [-2]\n",
      "2018-01-03 06:00:00             [5]\n",
      "2018-01-03 07:00:00            [-5]\n",
      "2018-01-03 11:00:00             [5]\n",
      "2018-01-03 12:00:00            [-5]\n",
      "2018-01-03 13:00:00             [2]\n",
      "2018-01-03 14:00:00            [-2]\n",
      "2018-01-03 18:00:00             [5]\n",
      "2018-01-03 19:00:00            [-5]\n",
      "2018-01-03 20:00:00          [5, 2]\n",
      "2018-01-03 22:00:00            [-5]\n",
      "2018-01-03 23:00:00            [-2]\n",
      "2018-01-04 19:00:00             [2]\n",
      "2018-01-04 22:00:00            [-2]\n",
      "2018-01-05 05:00:00             [5]\n",
      "2018-01-05 06:00:00            [-5]\n",
      "2018-01-05 07:00:00             [2]\n",
      "2018-01-05 10:00:00             [6]\n",
      "2018-01-05 11:00:00             [5]\n",
      "2018-01-05 12:00:00    [-5, -2, -6]\n",
      "2018-01-05 15:00:00             [2]\n",
      "2018-01-05 17:00:00            [-2]\n",
      "2018-01-05 19:00:00          [5, 2]\n",
      "2018-01-05 21:00:00            [-5]\n",
      "2018-01-05 23:00:00            [-2]\n",
      "2018-01-06 15:00:00             [2]\n",
      "2018-01-06 16:00:00             [5]\n",
      "2018-01-06 17:00:00            [-5]\n",
      "2018-01-06 18:00:00            [-2]\n",
      "dtype: object\n"
     ]
    }
   ],
   "source": [
    "print(representation[23])"
   ]
  },
  {
   "cell_type": "code",
   "execution_count": 7,
   "metadata": {},
   "outputs": [],
   "source": [
    "tmp_location = (1, 1, 1)\n",
    "sql.result2db(representation, tmp_location)"
   ]
  },
  {
   "cell_type": "code",
   "execution_count": 8,
   "metadata": {},
   "outputs": [],
   "source": [
    "buildings = representation.keys()\n",
    "\n",
    "for building in buildings:\n",
    "    sql.delete_data(building=building)"
   ]
  },
  {
   "cell_type": "code",
   "execution_count": 9,
   "metadata": {},
   "outputs": [
    {
     "name": "stdout",
     "output_type": "stream",
     "text": [
      "=====================================================\n",
      "======== Connect to the remote msSQL server ========\n",
      "=====================================================\n",
      "Time : 2018-08-08_14_36\n",
      "\n",
      "The .csv of buliding_df_result is saved\n",
      "The .csv of buliding_df_result is saved\n",
      "The .csv of buliding_df_result is saved\n",
      "The .csv of buliding_df_result is saved\n",
      "The .csv of buliding_df_result is saved\n",
      "The .csv of buliding_df_result is saved\n",
      "The .csv of buliding_df_result is saved\n",
      "The .csv of buliding_df_result is saved\n",
      "The .csv of buliding_df_result is saved\n",
      "The .csv of buliding_df_result is saved\n",
      "The .csv of buliding_df_result is saved\n",
      "The .csv of buliding_df_result is saved\n",
      "The .csv of buliding_df_result is saved\n",
      "The .csv of buliding_df_result is saved\n",
      "The .csv of buliding_df_result is saved\n",
      "The .csv of buliding_df_result is saved\n",
      "The .csv of buliding_df_result is saved\n",
      "The .csv of buliding_df_result is saved\n",
      "The .csv of buliding_df_result is saved\n",
      "The .csv of buliding_df_result is saved\n",
      "The .csv of buliding_df_result is saved\n",
      "The .csv of buliding_df_result is saved\n",
      "The .csv of buliding_df_result is saved\n",
      "The .csv of buliding_df_result is saved\n",
      "The .csv of buliding_df_result is saved\n",
      "The .csv of meters_state_result is saved\n",
      "The .csv of meters_state_result is saved\n",
      "The .csv of meters_state_result is saved\n",
      "The .csv of meters_state_result is saved\n",
      "The .csv of meters_state_result is saved\n",
      "The .csv of meters_state_result is saved\n",
      "The .csv of meters_state_result is saved\n",
      "The .csv of meters_state_result is saved\n",
      "The .csv of meters_state_result is saved\n",
      "The .csv of meters_state_result is saved\n",
      "The .csv of meters_state_result is saved\n",
      "The .csv of meters_state_result is saved\n",
      "The .csv of meters_state_result is saved\n",
      "The .csv of meters_state_result is saved\n",
      "The .csv of meters_state_result is saved\n",
      "The .csv of meters_state_result is saved\n",
      "The .csv of meters_state_result is saved\n",
      "The .csv of meters_state_result is saved\n",
      "The .csv of meters_state_result is saved\n",
      "The .csv of meters_state_result is saved\n",
      "The .csv of meters_state_result is saved\n",
      "The .csv of meters_state_result is saved\n",
      "The .csv of meters_state_result is saved\n",
      "The .csv of meters_state_result is saved\n",
      "The .csv of meters_state_result is saved\n",
      "The .csv of swich_moment_result is saved\n",
      "The .csv of swich_moment_result is saved\n",
      "The .csv of swich_moment_result is saved\n",
      "The .csv of swich_moment_result is saved\n",
      "The .csv of swich_moment_result is saved\n",
      "The .csv of swich_moment_result is saved\n",
      "The .csv of swich_moment_result is saved\n",
      "The .csv of swich_moment_result is saved\n",
      "The .csv of swich_moment_result is saved\n",
      "The .csv of swich_moment_result is saved\n",
      "The .csv of swich_moment_result is saved\n",
      "The .csv of swich_moment_result is saved\n",
      "The .csv of swich_moment_result is saved\n",
      "The .csv of swich_moment_result is saved\n",
      "The .csv of swich_moment_result is saved\n",
      "The .csv of swich_moment_result is saved\n",
      "The .csv of swich_moment_result is saved\n",
      "The .csv of swich_moment_result is saved\n",
      "The .csv of swich_moment_result is saved\n",
      "The .csv of swich_moment_result is saved\n",
      "The .csv of swich_moment_result is saved\n",
      "The .csv of swich_moment_result is saved\n",
      "The .csv of swich_moment_result is saved\n",
      "The .csv of swich_moment_result is saved\n",
      "The .csv of swich_moment_result is saved\n",
      "The .csv of concate_states_result is saved\n",
      "The .csv of concate_states_result is saved\n",
      "The .csv of concate_states_result is saved\n",
      "The .csv of concate_states_result is saved\n",
      "The .csv of concate_states_result is saved\n",
      "The .csv of concate_states_result is saved\n",
      "The .csv of concate_states_result is saved\n",
      "The .csv of concate_states_result is saved\n",
      "The .csv of concate_states_result is saved\n",
      "The .csv of concate_states_result is saved\n",
      "The .csv of concate_states_result is saved\n",
      "The .csv of concate_states_result is saved\n",
      "The .csv of concate_states_result is saved\n",
      "The .csv of concate_states_result is saved\n",
      "The .csv of concate_states_result is saved\n",
      "The .csv of concate_states_result is saved\n",
      "The .csv of concate_states_result is saved\n",
      "The .csv of concate_states_result is saved\n",
      "The .csv of concate_states_result is saved\n",
      "The .csv of concate_states_result is saved\n",
      "The .csv of concate_states_result is saved\n",
      "The .csv of concate_states_result is saved\n",
      "The .csv of concate_states_result is saved\n",
      "The .csv of concate_states_result is saved\n",
      "The .csv of concate_states_result is saved\n",
      "The .csv of usage_representation_result is saved\n",
      "The .csv of usage_representation_result is saved\n",
      "The .csv of usage_representation_result is saved\n",
      "The .csv of usage_representation_result is saved\n",
      "The .csv of usage_representation_result is saved\n",
      "The .csv of usage_representation_result is saved\n",
      "The .csv of usage_representation_result is saved\n",
      "The .csv of usage_representation_result is saved\n",
      "The .csv of usage_representation_result is saved\n",
      "The .csv of usage_representation_result is saved\n",
      "The .csv of usage_representation_result is saved\n",
      "The .csv of usage_representation_result is saved\n",
      "The .csv of usage_representation_result is saved\n",
      "The .csv of usage_representation_result is saved\n",
      "The .csv of usage_representation_result is saved\n",
      "The .csv of usage_representation_result is saved\n",
      "The .csv of usage_representation_result is saved\n",
      "The .csv of usage_representation_result is saved\n",
      "The .csv of usage_representation_result is saved\n",
      "The .csv of usage_representation_result is saved\n",
      "The .csv of usage_representation_result is saved\n",
      "The .csv of usage_representation_result is saved\n",
      "The .csv of usage_representation_result is saved\n",
      "The .csv of usage_representation_result is saved\n",
      "The .csv of usage_representation_result is saved\n"
     ]
    }
   ],
   "source": [
    "demo_Pipeline = ClusterPipeline()\n",
    "apriori_result = demo_Pipeline.demo_algorithms(target_building=23, min_supp=0.03, min_confi=0.1, min_len=2)"
   ]
  },
  {
   "cell_type": "code",
   "execution_count": 10,
   "metadata": {},
   "outputs": [
    {
     "name": "stdout",
     "output_type": "stream",
     "text": [
      "=====================================================\n",
      "============ Close the remote connection ============\n",
      "=====================================================\n"
     ]
    }
   ],
   "source": [
    "for building in buildings:\n",
    "    sql.delete_data(building=building)\n",
    "    \n",
    "sql.disconnect()"
   ]
  },
  {
   "cell_type": "code",
   "execution_count": 11,
   "metadata": {},
   "outputs": [
    {
     "data": {
      "text/plain": [
       "[RelationRecord(items=frozenset([-5]), support=0.1111111111111111, ordered_statistics=[OrderedStatistic(items_base=frozenset([]), items_add=frozenset([-5]), confidence=0.1111111111111111, lift=1.0)]),\n",
       " RelationRecord(items=frozenset([5]), support=0.1111111111111111, ordered_statistics=[OrderedStatistic(items_base=frozenset([]), items_add=frozenset([5]), confidence=0.1111111111111111, lift=1.0)])]"
      ]
     },
     "execution_count": 11,
     "metadata": {},
     "output_type": "execute_result"
    }
   ],
   "source": [
    "apriori_result"
   ]
  },
  {
   "cell_type": "code",
   "execution_count": 12,
   "metadata": {},
   "outputs": [
    {
     "name": "stdout",
     "output_type": "stream",
     "text": [
      "RelationRecord(items=frozenset([off_bottle warmer]), support=0.1111111111111111, ordered_statistics=[OrderedStatistic(items_base=frozenset([]), items_add=frozenset([off_bottle warmer]), confidence=0.1111111111111111, lift=1.0)])\n",
      "RelationRecord(items=frozenset([bottle warmer]), support=0.1111111111111111, ordered_statistics=[OrderedStatistic(items_base=frozenset([]), items_add=frozenset([bottle warmer]), confidence=0.1111111111111111, lift=1.0)])\n"
     ]
    },
    {
     "data": {
      "text/plain": [
       "['RelationRecord(items=frozenset([off_bottle warmer]), support=0.1111111111111111, ordered_statistics=[OrderedStatistic(items_base=frozenset([]), items_add=frozenset([off_bottle warmer]), confidence=0.1111111111111111, lift=1.0)])',\n",
       " 'RelationRecord(items=frozenset([bottle warmer]), support=0.1111111111111111, ordered_statistics=[OrderedStatistic(items_base=frozenset([]), items_add=frozenset([bottle warmer]), confidence=0.1111111111111111, lift=1.0)])']"
      ]
     },
     "execution_count": 12,
     "metadata": {},
     "output_type": "execute_result"
    }
   ],
   "source": [
    "data.decode2meter(apriori_result)"
   ]
  },
  {
   "cell_type": "code",
   "execution_count": 13,
   "metadata": {},
   "outputs": [],
   "source": [
    "# apriori test case\n",
    "from apyori import apriori\n",
    "\n",
    "data = [['aaa','bbb'],\n",
    "        ['bbb','ccc','ddd','fff'],\n",
    "        ['aaa','ccc','ddd','eee'],\n",
    "        ['bbb','aaa','ccc','ddd'],\n",
    "        ['aaa','ccc','bbb'],\n",
    "        ['bbb','ccc','ddd'],\n",
    "        ['aaa','bbb','ccc'],\n",
    "        ['ccc','ddd'],\n",
    "        ['bbb','eee','ccc','ddd','aaa'],\n",
    "        ['bbb','aaa','ccc','eee']]\n",
    "\n",
    "result = list(apriori(transactions=data, min_support=0.5, min_confidence=0.5))"
   ]
  },
  {
   "cell_type": "code",
   "execution_count": 14,
   "metadata": {},
   "outputs": [
    {
     "data": {
      "text/plain": [
       "[RelationRecord(items=frozenset(['aaa']), support=0.7, ordered_statistics=[OrderedStatistic(items_base=frozenset([]), items_add=frozenset(['aaa']), confidence=0.7, lift=1.0)]),\n",
       " RelationRecord(items=frozenset(['bbb']), support=0.8, ordered_statistics=[OrderedStatistic(items_base=frozenset([]), items_add=frozenset(['bbb']), confidence=0.8, lift=1.0)]),\n",
       " RelationRecord(items=frozenset(['ccc']), support=0.9, ordered_statistics=[OrderedStatistic(items_base=frozenset([]), items_add=frozenset(['ccc']), confidence=0.9, lift=1.0)]),\n",
       " RelationRecord(items=frozenset(['ddd']), support=0.6, ordered_statistics=[OrderedStatistic(items_base=frozenset([]), items_add=frozenset(['ddd']), confidence=0.6, lift=1.0)]),\n",
       " RelationRecord(items=frozenset(['aaa', 'bbb']), support=0.6, ordered_statistics=[OrderedStatistic(items_base=frozenset(['aaa']), items_add=frozenset(['bbb']), confidence=0.8571428571428572, lift=1.0714285714285714), OrderedStatistic(items_base=frozenset(['bbb']), items_add=frozenset(['aaa']), confidence=0.7499999999999999, lift=1.0714285714285714)]),\n",
       " RelationRecord(items=frozenset(['aaa', 'ccc']), support=0.6, ordered_statistics=[OrderedStatistic(items_base=frozenset(['aaa']), items_add=frozenset(['ccc']), confidence=0.8571428571428572, lift=0.9523809523809524), OrderedStatistic(items_base=frozenset(['ccc']), items_add=frozenset(['aaa']), confidence=0.6666666666666666, lift=0.9523809523809524)]),\n",
       " RelationRecord(items=frozenset(['bbb', 'ccc']), support=0.7, ordered_statistics=[OrderedStatistic(items_base=frozenset(['bbb']), items_add=frozenset(['ccc']), confidence=0.8749999999999999, lift=0.9722222222222221), OrderedStatistic(items_base=frozenset(['ccc']), items_add=frozenset(['bbb']), confidence=0.7777777777777777, lift=0.9722222222222221)]),\n",
       " RelationRecord(items=frozenset(['ccc', 'ddd']), support=0.6, ordered_statistics=[OrderedStatistic(items_base=frozenset(['ccc']), items_add=frozenset(['ddd']), confidence=0.6666666666666666, lift=1.1111111111111112), OrderedStatistic(items_base=frozenset(['ddd']), items_add=frozenset(['ccc']), confidence=1.0, lift=1.1111111111111112)]),\n",
       " RelationRecord(items=frozenset(['aaa', 'bbb', 'ccc']), support=0.5, ordered_statistics=[OrderedStatistic(items_base=frozenset(['aaa', 'bbb']), items_add=frozenset(['ccc']), confidence=0.8333333333333334, lift=0.9259259259259259), OrderedStatistic(items_base=frozenset(['aaa', 'ccc']), items_add=frozenset(['bbb']), confidence=0.8333333333333334, lift=1.0416666666666667), OrderedStatistic(items_base=frozenset(['bbb', 'ccc']), items_add=frozenset(['aaa']), confidence=0.7142857142857143, lift=1.0204081632653061)])]"
      ]
     },
     "execution_count": 14,
     "metadata": {},
     "output_type": "execute_result"
    }
   ],
   "source": [
    "result"
   ]
  },
  {
   "cell_type": "code",
   "execution_count": null,
   "metadata": {},
   "outputs": [],
   "source": []
  }
 ],
 "metadata": {
  "kernelspec": {
   "display_name": "Python 2",
   "language": "python",
   "name": "python2"
  },
  "language_info": {
   "codemirror_mode": {
    "name": "ipython",
    "version": 2
   },
   "file_extension": ".py",
   "mimetype": "text/x-python",
   "name": "python",
   "nbconvert_exporter": "python",
   "pygments_lexer": "ipython2",
   "version": "2.7.14"
  }
 },
 "nbformat": 4,
 "nbformat_minor": 2
}

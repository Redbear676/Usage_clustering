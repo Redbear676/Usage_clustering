{
 "cells": [
  {
   "cell_type": "code",
   "execution_count": 1,
   "metadata": {},
   "outputs": [],
   "source": [
    "from data_process import data4correlation\n",
    "from sql_process import correlation4sql\n",
    "from data_process import CorrelationPipeline"
   ]
  },
  {
   "cell_type": "code",
   "execution_count": 2,
   "metadata": {},
   "outputs": [
    {
     "name": "stdout",
     "output_type": "stream",
     "text": [
      "=====================================================\n",
      "======== Connect to the remote msSQL server ========\n",
      "=====================================================\n",
      "Time : 2018-08-16_10_57\n",
      "\n"
     ]
    }
   ],
   "source": [
    "data = data4correlation()\n",
    "sql = correlation4sql(user=\"III_Cluster\", password=\"III_clustering\", database=\"usage_db\", host_address='140.92.174.21\\SQLEXPRESS01')"
   ]
  },
  {
   "cell_type": "code",
   "execution_count": 3,
   "metadata": {},
   "outputs": [],
   "source": [
    "# 初始化資料庫 TABLE\n",
    "#sql.init_tables()"
   ]
  },
  {
   "cell_type": "code",
   "execution_count": 4,
   "metadata": {},
   "outputs": [
    {
     "name": "stderr",
     "output_type": "stream",
     "text": [
      "data_process.py:105: FutureWarning: how in .resample() is deprecated\n",
      "the new syntax is .resample(...).mean()\n",
      "  buliding_df = buliding_df.resample(sample_rate, how='mean')\n",
      "data_process.py:117: FutureWarning: how in .resample() is deprecated\n",
      "the new syntax is .resample(...).mean()\n",
      "  appliance_meter = appliance_meter.resample(sample_rate, how='mean')\n"
     ]
    },
    {
     "name": "stdout",
     "output_type": "stream",
     "text": [
      "The .csv of buliding_df_result is saved\n",
      "The .csv of buliding_df_result is saved\n",
      "The .csv of meters_state_result is saved\n",
      "The .csv of meters_state_result is saved\n"
     ]
    },
    {
     "name": "stderr",
     "output_type": "stream",
     "text": [
      "data_process.py:259: FutureWarning: how in .resample() is deprecated\n",
      "the new syntax is .resample(...).min()\n",
      "  buildings_meters_state[building] = buildings_meters_state[building].resample(continuous_timestamps, how='min')\n",
      "data_process.py:261: FutureWarning: how in .resample() is deprecated\n",
      "the new syntax is .resample(...).sum()\n",
      "  buildings_meters_state[building] = buildings_meters_state[building].resample(sample_rate, how='sum')\n"
     ]
    },
    {
     "name": "stdout",
     "output_type": "stream",
     "text": [
      "The .csv of swich_moment_result is saved\n",
      "The .csv of swich_moment_result is saved\n",
      "The .csv of concate_states_result is saved\n",
      "The .csv of concate_states_result is saved\n",
      "The .csv of usage_representation_result is saved\n",
      "The .csv of usage_representation_result is saved\n"
     ]
    }
   ],
   "source": [
    "representation = data.get_usage_representation(buildings = [2,4], target_meters=['fridge','television','air conditioner','bottle warmer'], sample_rate='240min')"
   ]
  },
  {
   "cell_type": "code",
   "execution_count": 5,
   "metadata": {
    "scrolled": true
   },
   "outputs": [
    {
     "name": "stdout",
     "output_type": "stream",
     "text": [
      "reporttime\n",
      "2018-01-01 00:00:00               [On_fridge, On_television]\n",
      "2018-01-01 04:00:00                         [Off_television]\n",
      "2018-01-01 08:00:00                          [On_television]\n",
      "2018-01-01 12:00:00                         [Off_television]\n",
      "2018-01-01 16:00:00                          [On_television]\n",
      "2018-01-02 00:00:00                         [Off_television]\n",
      "2018-01-02 04:00:00                          [On_television]\n",
      "2018-01-03 00:00:00                         [Off_television]\n",
      "2018-01-03 04:00:00                          [On_television]\n",
      "2018-01-03 12:00:00                         [Off_television]\n",
      "2018-01-03 20:00:00                          [On_television]\n",
      "2018-01-04 00:00:00                         [Off_television]\n",
      "2018-01-04 04:00:00                          [On_television]\n",
      "2018-01-04 12:00:00                         [Off_television]\n",
      "2018-01-04 16:00:00                          [On_television]\n",
      "2018-01-05 00:00:00                         [Off_television]\n",
      "2018-01-05 04:00:00                          [On_television]\n",
      "2018-01-06 00:00:00                         [Off_television]\n",
      "2018-01-06 08:00:00                          [On_television]\n",
      "2018-01-07 00:00:00                         [Off_television]\n",
      "2018-01-07 16:00:00                          [On_television]\n",
      "2018-01-08 00:00:00                         [Off_television]\n",
      "2018-01-08 12:00:00                          [On_television]\n",
      "2018-01-09 00:00:00                         [Off_television]\n",
      "2018-01-09 04:00:00                          [On_television]\n",
      "2018-01-09 16:00:00                         [Off_television]\n",
      "2018-01-09 20:00:00                          [On_television]\n",
      "2018-01-10 00:00:00                         [Off_television]\n",
      "2018-01-10 08:00:00              [Off_fridge, On_television]\n",
      "2018-01-10 12:00:00                              [On_fridge]\n",
      "                                       ...                  \n",
      "2018-06-14 08:00:00              [Off_fridge, On_television]\n",
      "2018-06-14 12:00:00                         [Off_television]\n",
      "2018-06-20 04:00:00                              [On_fridge]\n",
      "2018-06-20 08:00:00                          [On_television]\n",
      "2018-06-20 16:00:00                     [On_air conditioner]\n",
      "2018-06-20 20:00:00                    [Off_air conditioner]\n",
      "2018-06-21 00:00:00             [Off_fridge, Off_television]\n",
      "2018-06-21 12:00:00               [On_fridge, On_television]\n",
      "2018-06-22 00:00:00                         [Off_television]\n",
      "2018-06-22 08:00:00                          [On_television]\n",
      "2018-06-22 16:00:00                         [Off_television]\n",
      "2018-06-22 20:00:00                          [On_television]\n",
      "2018-06-23 00:00:00                         [Off_television]\n",
      "2018-06-23 08:00:00                          [On_television]\n",
      "2018-06-23 12:00:00                     [On_air conditioner]\n",
      "2018-06-23 16:00:00    [Off_air conditioner, Off_television]\n",
      "2018-06-24 16:00:00                          [On_television]\n",
      "2018-06-24 20:00:00                         [Off_television]\n",
      "2018-06-25 20:00:00                          [On_television]\n",
      "2018-06-26 00:00:00                         [Off_television]\n",
      "2018-06-26 16:00:00      [On_air conditioner, On_television]\n",
      "2018-06-27 00:00:00    [Off_air conditioner, Off_television]\n",
      "2018-06-27 08:00:00      [On_air conditioner, On_television]\n",
      "2018-06-27 12:00:00                         [Off_television]\n",
      "2018-06-27 16:00:00                    [Off_air conditioner]\n",
      "2018-06-27 20:00:00                          [On_television]\n",
      "2018-06-28 00:00:00                         [Off_television]\n",
      "2018-06-28 08:00:00                          [On_television]\n",
      "2018-06-29 00:00:00                         [Off_television]\n",
      "2018-06-29 08:00:00                          [On_television]\n",
      "Length: 452, dtype: object\n"
     ]
    }
   ],
   "source": [
    "print(representation[2])"
   ]
  },
  {
   "cell_type": "code",
   "execution_count": 6,
   "metadata": {},
   "outputs": [
    {
     "name": "stdout",
     "output_type": "stream",
     "text": [
      "('Get row... ', (1,))\n",
      "('Get row... ', (3,))\n",
      "('Get row... ', (5,))\n",
      "('Get row... ', (6,))\n",
      "('Get row... ', (7,))\n",
      "('Get row... ', (8,))\n",
      "('Get row... ', (9,))\n",
      "('Get row... ', (12,))\n",
      "('Get row... ', (13,))\n",
      "('Get row... ', (14,))\n",
      "('Get row... ', (15,))\n",
      "('Get row... ', (16,))\n",
      "('Get row... ', (17,))\n",
      "('Get row... ', (18,))\n",
      "('Get row... ', (19,))\n",
      "('Get row... ', (20,))\n",
      "('Get row... ', (21,))\n",
      "('Get row... ', (22,))\n",
      "('Get row... ', (23,))\n",
      "('Get row... ', (24,))\n",
      "('Get row... ', (25,))\n",
      "('Get row... ', (26,))\n",
      "('Get row... ', (27,))\n",
      "('Get row... ', (28,))\n",
      "('Get row... ', (29,))\n",
      "('Get row... ', (30,))\n",
      "('Get row... ', (31,))\n",
      "('Get row... ', (32,))\n",
      "('Get row... ', (33,))\n",
      "('Get row... ', (34,))\n",
      "('Get row... ', (35,))\n",
      "('Get row... ', (36,))\n",
      "('Get row... ', (37,))\n",
      "('Get row... ', (38,))\n",
      "('Get row... ', (39,))\n",
      "('Get row... ', (40,))\n",
      "('Get row... ', (41,))\n",
      "('Get row... ', (42,))\n",
      "('Get row... ', (43,))\n",
      "('Get row... ', (44,))\n",
      "('Get row... ', (45,))\n",
      "('Get row... ', (46,))\n",
      "('Get row... ', (47,))\n",
      "('Get row... ', (48,))\n",
      "('Get row... ', (49,))\n",
      "('Get row... ', (50,))\n",
      "('Get row... ', (51,))\n",
      "('Get row... ', (52,))\n",
      "('Get row... ', (53,))\n",
      "('Get row... ', (54,))\n",
      "('Get row... ', (55,))\n",
      "('Get row... ', (56,))\n",
      "('Get row... ', (57,))\n",
      "('Get row... ', (58,))\n",
      "('Get row... ', (59,))\n"
     ]
    }
   ],
   "source": [
    "tmp_location = (1, 1, 1)\n",
    "sql.result2db(representation, tmp_location)"
   ]
  },
  {
   "cell_type": "code",
   "execution_count": 7,
   "metadata": {},
   "outputs": [],
   "source": [
    "buildings = representation.keys()\n",
    "\n",
    "for building in buildings:\n",
    "    sql.delete_data(building=building)"
   ]
  },
  {
   "cell_type": "code",
   "execution_count": 4,
   "metadata": {},
   "outputs": [
    {
     "name": "stdout",
     "output_type": "stream",
     "text": [
      "=====================================================\n",
      "======== Connect to the remote msSQL server ========\n",
      "=====================================================\n",
      "Time : 2018-08-16_10_57\n",
      "\n"
     ]
    },
    {
     "name": "stderr",
     "output_type": "stream",
     "text": [
      "data_process.py:105: FutureWarning: how in .resample() is deprecated\n",
      "the new syntax is .resample(...).mean()\n",
      "  buliding_df = buliding_df.resample(sample_rate, how='mean')\n",
      "data_process.py:117: FutureWarning: how in .resample() is deprecated\n",
      "the new syntax is .resample(...).mean()\n",
      "  appliance_meter = appliance_meter.resample(sample_rate, how='mean')\n"
     ]
    },
    {
     "name": "stdout",
     "output_type": "stream",
     "text": [
      "The .csv of buliding_df_result is saved\n",
      "The .csv of meters_state_result is saved\n"
     ]
    },
    {
     "name": "stderr",
     "output_type": "stream",
     "text": [
      "data_process.py:259: FutureWarning: how in .resample() is deprecated\n",
      "the new syntax is .resample(...).min()\n",
      "  buildings_meters_state[building] = buildings_meters_state[building].resample(continuous_timestamps, how='min')\n",
      "data_process.py:261: FutureWarning: how in .resample() is deprecated\n",
      "the new syntax is .resample(...).sum()\n",
      "  buildings_meters_state[building] = buildings_meters_state[building].resample(sample_rate, how='sum')\n"
     ]
    },
    {
     "name": "stdout",
     "output_type": "stream",
     "text": [
      "The .csv of swich_moment_result is saved\n",
      "The .csv of concate_states_result is saved\n",
      "The .csv of usage_representation_result is saved\n",
      "('Get row... ', (1,))\n",
      "('Get row... ', (3,))\n",
      "('Get row... ', (5,))\n",
      "('Get row... ', (6,))\n",
      "('Get row... ', (7,))\n",
      "('Get row... ', (8,))\n",
      "('Get row... ', (9,))\n",
      "('Get row... ', (12,))\n",
      "('Get row... ', (13,))\n",
      "('Get row... ', (14,))\n",
      "('Get row... ', (15,))\n",
      "('Get row... ', (16,))\n",
      "('Get row... ', (17,))\n",
      "('Get row... ', (18,))\n",
      "('Get row... ', (19,))\n",
      "('Get row... ', (20,))\n",
      "('Get row... ', (21,))\n",
      "('Get row... ', (22,))\n",
      "('Get row... ', (23,))\n",
      "('Get row... ', (24,))\n",
      "('Get row... ', (25,))\n",
      "('Get row... ', (26,))\n",
      "('Get row... ', (27,))\n",
      "('Get row... ', (28,))\n",
      "('Get row... ', (29,))\n",
      "('Get row... ', (30,))\n",
      "('Get row... ', (31,))\n",
      "('Get row... ', (32,))\n",
      "('Get row... ', (33,))\n",
      "('Get row... ', (34,))\n",
      "('Get row... ', (35,))\n",
      "('Get row... ', (36,))\n",
      "('Get row... ', (37,))\n",
      "('Get row... ', (38,))\n",
      "('Get row... ', (39,))\n",
      "('Get row... ', (40,))\n",
      "('Get row... ', (41,))\n",
      "('Get row... ', (42,))\n",
      "('Get row... ', (43,))\n",
      "('Get row... ', (44,))\n",
      "('Get row... ', (45,))\n",
      "('Get row... ', (46,))\n",
      "('Get row... ', (47,))\n",
      "('Get row... ', (48,))\n",
      "('Get row... ', (49,))\n",
      "('Get row... ', (50,))\n",
      "('Get row... ', (51,))\n",
      "('Get row... ', (52,))\n",
      "('Get row... ', (53,))\n",
      "('Get row... ', (54,))\n",
      "('Get row... ', (55,))\n",
      "('Get row... ', (56,))\n",
      "('Get row... ', (57,))\n",
      "('Get row... ', (58,))\n",
      "('Get row... ', (59,))\n"
     ]
    },
    {
     "name": "stderr",
     "output_type": "stream",
     "text": [
      "100%|██████████| 1/1 [00:00<00:00,  3.55it/s]\n"
     ]
    },
    {
     "name": "stdout",
     "output_type": "stream",
     "text": [
      "All the computations are completed...\n"
     ]
    }
   ],
   "source": [
    "demo_Pipeline = CorrelationPipeline(buildings=[1], min_series_len = 10)\n",
    "demo_Pipeline.demo_algorithms(sample_rate=240, min_supp=0.01, min_confi=0.01)"
   ]
  },
  {
   "cell_type": "code",
   "execution_count": null,
   "metadata": {},
   "outputs": [],
   "source": [
    "for building in buildings:\n",
    "    sql.delete_data(building=building)\n",
    "    \n",
    "sql.disconnect()"
   ]
  },
  {
   "cell_type": "code",
   "execution_count": null,
   "metadata": {},
   "outputs": [],
   "source": [
    "# apriori test case\n",
    "from apyori import apriori\n",
    "\n",
    "data = [['aaa','bbb'],\n",
    "        ['bbb','ccc','ddd','fff'],\n",
    "        ['aaa','ccc','ddd','eee'],\n",
    "        ['bbb','aaa','ccc','ddd'],\n",
    "        ['aaa','ccc','bbb'],\n",
    "        ['bbb','ccc','ddd'],\n",
    "        ['aaa','bbb','ccc'],\n",
    "        ['ccc','ddd'],\n",
    "        ['bbb','eee','ccc','ddd','aaa'],\n",
    "        ['bbb','aaa','ccc','eee']]\n",
    "\n",
    "result = list(apriori(transactions=data, min_support=0.6, min_confidence=0.6))"
   ]
  },
  {
   "cell_type": "code",
   "execution_count": null,
   "metadata": {},
   "outputs": [],
   "source": [
    "result"
   ]
  },
  {
   "cell_type": "code",
   "execution_count": null,
   "metadata": {},
   "outputs": [],
   "source": []
  }
 ],
 "metadata": {
  "kernelspec": {
   "display_name": "Python 2",
   "language": "python",
   "name": "python2"
  },
  "language_info": {
   "codemirror_mode": {
    "name": "ipython",
    "version": 2
   },
   "file_extension": ".py",
   "mimetype": "text/x-python",
   "name": "python",
   "nbconvert_exporter": "python",
   "pygments_lexer": "ipython2",
   "version": "2.7.14"
  }
 },
 "nbformat": 4,
 "nbformat_minor": 2
}

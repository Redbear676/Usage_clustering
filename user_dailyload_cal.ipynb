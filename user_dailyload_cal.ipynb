{
 "cells": [
  {
   "cell_type": "code",
   "execution_count": 1,
   "metadata": {},
   "outputs": [],
   "source": [
    "import pandas as pd\n",
    "from time import strftime"
   ]
  },
  {
   "cell_type": "code",
   "execution_count": 2,
   "metadata": {},
   "outputs": [],
   "source": [
    "def read_data_from_csv(file_name):\n",
    "    df = pd.read_csv('./data/' + file_name + '.csv', header=0)\n",
    "    return df"
   ]
  },
  {
   "cell_type": "code",
   "execution_count": 3,
   "metadata": {},
   "outputs": [],
   "source": [
    "def cal_user_daily_load(file_name='max_min_sum_w_dataSet'):\n",
    "    df = read_data_from_csv(file_name)\n",
    "    df['Week_id'] = pd.to_datetime(df['reportTime']).dt.weekday\n",
    "    df_user_group = df.groupby('userId')\n",
    "    userId = df_user_group.groups.keys()\n",
    "    \n",
    "    for user in userId:\n",
    "        df_weekday_group = df_user_group.get_group(user).groupby('Week_id')\n",
    "        weekday = df_weekday_group.groups.keys()\n",
    "        dailyload = pd.DataFrame()\n",
    "        for idx, day in enumerate(weekday):\n",
    "            target_group_mean = df_weekday_group.get_group(day).iloc[:, 3:99].mean()\n",
    "            target_group_max = df_weekday_group.get_group(day).iloc[:, 3:99].max(axis=1).mean()\n",
    "            target_group_min = df_weekday_group.get_group(day).iloc[:, 3:99].min(axis=1).mean()\n",
    "    \n",
    "            col_name = target_group_mean.index\n",
    "            temp_df = pd.DataFrame(data=target_group_mean.values.reshape(1, col_name.shape[0]), columns=col_name)   \n",
    "            temp_df.insert(loc=0, column='avg_max', value=target_group_max)\n",
    "            temp_df.insert(loc=0, column='avg_min', value=target_group_min)\n",
    "            temp_df.insert(loc=0, column='Week_id', value=day)\n",
    "            temp_df.insert(loc=0, column='User_id', value=user)\n",
    "            dailyload = dailyload.append(temp_df)\n",
    "    \n",
    "        dailyload['Reporttime'] = strftime('%Y-%m-%d %H:%M')\n",
    "        dailyload.to_csv(r'./result/user_' + str(user) + '_dailyload.csv', index=False)"
   ]
  },
  {
   "cell_type": "code",
   "execution_count": null,
   "metadata": {},
   "outputs": [],
   "source": []
  }
 ],
 "metadata": {
  "kernelspec": {
   "display_name": "Python 2",
   "language": "python",
   "name": "python2"
  },
  "language_info": {
   "codemirror_mode": {
    "name": "ipython",
    "version": 2
   },
   "file_extension": ".py",
   "mimetype": "text/x-python",
   "name": "python",
   "nbconvert_exporter": "python",
   "pygments_lexer": "ipython2",
   "version": "2.7.14"
  }
 },
 "nbformat": 4,
 "nbformat_minor": 2
}
